{
 "cells": [
  {
   "cell_type": "code",
   "execution_count": 15,
   "metadata": {},
   "outputs": [],
   "source": [
    "import pickle \n",
    "import pandas as pd\n",
    "from pprint import pprint\n",
    "from IPython.display import display, HTML"
   ]
  },
  {
   "cell_type": "code",
   "execution_count": 24,
   "metadata": {},
   "outputs": [],
   "source": [
    "df = pd.read_csv('../data/train/train_combined.csv')"
   ]
  },
  {
   "cell_type": "code",
   "execution_count": 3,
   "metadata": {},
   "outputs": [
    {
     "data": {
      "text/plain": [
       "Index(['id', 'browserFamily', 'deviceType', 'os', 'iab_categories',\n",
       "       'confidence', 'combine'],\n",
       "      dtype='object')"
      ]
     },
     "execution_count": 3,
     "metadata": {},
     "output_type": "execute_result"
    }
   ],
   "source": [
    "df.columns"
   ]
  },
  {
   "cell_type": "code",
   "execution_count": 17,
   "metadata": {},
   "outputs": [
    {
     "data": {
      "text/plain": [
       "Mobile Safari                      3509030\n",
       "Chrome Mobile                      2535331\n",
       "Chrome                             2150799\n",
       "Safari                              569765\n",
       "Firefox                             109091\n",
       "Silk                                 76416\n",
       "unknown                              51823\n",
       "Android browser                      40427\n",
       "Opera                                33755\n",
       "Apple Mail                           15058\n",
       "Opera Mobile                         14632\n",
       "Mobile Firefox                       13728\n",
       "FacebookExternalHit/1.1               6093\n",
       "Yandex.Browser                        4113\n",
       "PS4 Web browser                       3906\n",
       "Yandex.Browser mobile                 2296\n",
       "Chromium                              2127\n",
       "Mediapartners-Google                  1466\n",
       "Mozilla                                992\n",
       "IE                                     759\n",
       "Maxthon mobile                         267\n",
       "Puffin                                 220\n",
       "Googlebot-Mobile                       211\n",
       "Android HttpURLConnection              205\n",
       "Sogou Explorer                         150\n",
       "Pale Moon                              145\n",
       "IE Mobile                              114\n",
       "Python-requests                         93\n",
       "SeaMonkey                               62\n",
       "Kindle Browser                          49\n",
       "Nokia Web Browser                       38\n",
       "BlackBerry Browser                      36\n",
       "Googlebot/2.1                           35\n",
       "Gmail image proxy                       32\n",
       "Konqueror                               23\n",
       "Waterfox                                22\n",
       "Opera Mini                              18\n",
       "Netscape Navigator                      16\n",
       "IceWeasel                               16\n",
       "NetFront                                12\n",
       "Java                                    11\n",
       "UC Browser                              11\n",
       "Iron                                    11\n",
       "IceDragon                               10\n",
       "AdsBot-Google                            8\n",
       "Polaris                                  8\n",
       "Blazer                                   8\n",
       "Maxthon                                  7\n",
       "Thunderbird                              6\n",
       "Camino                                   6\n",
       "IceApe                                   5\n",
       "Firebird (old name for Firefox)          5\n",
       "Google Wireless Transcoder               5\n",
       "Epiphany                                 4\n",
       "Firefox (Minefield)                      4\n",
       "Bolt                                     4\n",
       "IBrowse                                  4\n",
       "Galeon                                   3\n",
       "Outlook 2010                             2\n",
       "Name: browserFamily, dtype: int64"
      ]
     },
     "execution_count": 17,
     "metadata": {},
     "output_type": "execute_result"
    }
   ],
   "source": [
    "df['browserFamily'].value_counts()"
   ]
  },
  {
   "cell_type": "code",
   "execution_count": 5,
   "metadata": {},
   "outputs": [
    {
     "data": {
      "text/plain": [
       "Smartphone           5882568\n",
       "Personal computer    2872804\n",
       "Tablet                310471\n",
       "Smart TV               11466\n",
       "Other                   8159\n",
       "Game console            6226\n",
       "PDA                        8\n",
       "Name: deviceType, dtype: int64"
      ]
     },
     "execution_count": 5,
     "metadata": {},
     "output_type": "execute_result"
    }
   ],
   "source": [
    "df['deviceType'].value_counts()"
   ]
  },
  {
   "cell_type": "code",
   "execution_count": 25,
   "metadata": {},
   "outputs": [
    {
     "name": "stdout",
     "output_type": "stream",
     "text": [
      "iOS                  3850343\n",
      "Android              2383390\n",
      "Windows              1446394\n",
      "OS X                  834373\n",
      "Linux                 363049\n",
      "                      ...   \n",
      "MeeGo                      4\n",
      "Windows ME                 3\n",
      "Linux (Fedora)             3\n",
      "Android 1.0                1\n",
      "Android 1.6 Donut          1\n",
      "Name: os, Length: 62, dtype: int64\n"
     ]
    }
   ],
   "source": [
    "x = df['os'].value_counts()\n",
    "pprint(x)"
   ]
  },
  {
   "cell_type": "code",
   "execution_count": 11,
   "metadata": {},
   "outputs": [
    {
     "data": {
      "text/plain": [
       "high      7382517\n",
       "medium    1760976\n",
       "Name: confidence, dtype: int64"
      ]
     },
     "execution_count": 11,
     "metadata": {},
     "output_type": "execute_result"
    }
   ],
   "source": [
    "df['confidence'].value_counts()"
   ]
  },
  {
   "cell_type": "code",
   "execution_count": 16,
   "metadata": {},
   "outputs": [],
   "source": [
    "browser_family = {\n",
    "    'AdsBot-Google': 'crawler',\n",
    "    'Android HttpURLConnection': 'miscellaneous',\n",
    "    'Android browser': 'mobile',\n",
    "    'Apple Mail': 'miscellaneous',\n",
    "    'BlackBerry Browser': 'mobile',\n",
    "    'Blazer': 'other',\n",
    "    'Bolt': 'other',\n",
    "    'Camino': 'other',\n",
    "    'Chrome': 'browser',\n",
    "    'Chrome Mobile': 'mobile',\n",
    "    'Chromium': 'browser',\n",
    "    'Epiphany': 'other',\n",
    "    'FacebookExternalHit/1.1': 'crawler',\n",
    "    'Firebird (old name for Firefox)': 'other',\n",
    "    'Firefox': 'browser',\n",
    "    'Firefox (Minefield)': 'other',\n",
    "    'Galeon': 'other',\n",
    "    'Gmail image proxy': 'miscellaneous',\n",
    "    'Google Wireless Transcoder': 'miscellaneous',\n",
    "    'Googlebot-Mobile': 'crawler',\n",
    "    'Googlebot/2.1': 'crawler',\n",
    "    'IBrowse': 'other',\n",
    "    'IE': 'browser',\n",
    "    'IE Mobile': 'mobile',\n",
    "    'IceApe': 'other',\n",
    "    'IceDragon': 'other',\n",
    "    'IceWeasel': 'other',\n",
    "    'Iron': 'other',\n",
    "    'Java': 'miscellaneous',\n",
    "    'Kindle Browser': 'special',\n",
    "    'Konqueror': 'other',\n",
    "    'Maxthon': 'other',\n",
    "    'Maxthon mobile': 'mobile',\n",
    "    'Mediapartners-Google': 'crawler',\n",
    "    'Mobile Firefox': 'mobile',\n",
    "    'Mobile Safari': 'mobile',\n",
    "    'Mozilla': 'other',\n",
    "    'NetFront': 'other',\n",
    "    'Netscape Navigator': 'other',\n",
    "    'Nokia Web Browser': 'other',\n",
    "    'Opera': 'browser',\n",
    "    'Opera Mini': 'mobile',\n",
    "    'Opera Mobile': 'mobile',\n",
    "    'Outlook 2010': 'special',\n",
    "    'PS4 Web browser': 'special',\n",
    "    'Pale Moon': 'other',\n",
    "    'Polaris': 'other',\n",
    "    'Puffin': 'miscellaneous',\n",
    "    'Python-requests': 'miscellaneous',\n",
    "    'Safari': 'browser',\n",
    "    'SeaMonkey': 'other',\n",
    "    'Silk': 'other',\n",
    "    'Sogou Explorer': 'other',\n",
    "    'Thunderbird': 'miscellaneous',\n",
    "    'UC Browser': 'mobile',\n",
    "    'Waterfox': 'other',\n",
    "    'Yandex.Browser': 'other',\n",
    "    'Yandex.Browser mobile': 'mobile',\n",
    "    'unknown': 'other'\n",
    "}\n",
    "with open('../data/static_data/browser_family.pkl', 'wb') as f:\n",
    "    pickle.dump(browser_family, f)"
   ]
  },
  {
   "cell_type": "code",
   "execution_count": 20,
   "metadata": {},
   "outputs": [],
   "source": [
    "os = {\n",
    "    'iOS': 'ios',\n",
    "    'Windows': 'windows',\n",
    "    'Android': 'android',\n",
    "    'Linux': 'linux',\n",
    "    'OS X': 'macos',\n",
    "    'Windows 7': 'windows',\n",
    "    'Windows 8.1': 'windows',\n",
    "    'unknown': 'other',\n",
    "    'Chrome OS': 'chrome_os',\n",
    "    'Android 4.3 Jelly Bean': 'android',\n",
    "    'Android 4.4 KitKat': 'android',\n",
    "    'Linux (Ubuntu)': 'linux',\n",
    "    'Windows Phone 8.1': 'windows_phone',\n",
    "    'Orbis OS': 'other',\n",
    "    'OS X 10.9 Mavericks': 'macos',\n",
    "    'OS X 10.7 Lion': 'macos',\n",
    "    'Android 4.0.x Ice Cream Sandwich': 'android',\n",
    "    'iOS 4': 'ios',\n",
    "    'Android 3.x Honeycomb': 'android',\n",
    "    'Android 4.1.x Jelly Bean': 'android',\n",
    "    'OS X 10.8 Mountain Lion': 'macos',\n",
    "    'Android 2.2.x Froyo': 'android',\n",
    "    'Windows Mobile': 'windows_phone',\n",
    "    'OS X 10.10 Yosemite': 'macos',\n",
    "    'Windows 8': 'windows',\n",
    "    'Windows Vista': 'windows',\n",
    "    'OS X 10.4 Tiger': 'macos',\n",
    "    'Symbian OS': 'other',\n",
    "    'Windows RT': 'windows',\n",
    "    'Windows XP': 'windows',\n",
    "    'OS X 10.6 Snow Leopard': 'macos',\n",
    "    'Windows NT': 'windows',\n",
    "    'OS X 10.5 Leopard': 'macos',\n",
    "    'Windows 2003 Server': 'windows',\n",
    "    'Android 2.3.x Gingerbread': 'android',\n",
    "    'Android 4.2 Jelly Bean': 'android',\n",
    "    'JVM (Platform Micro Edition)': 'other',\n",
    "    'Windows Phone 8': 'windows_phone',\n",
    "    'Android 2.0/1 Eclair': 'android',\n",
    "    'iOS 7': 'ios',\n",
    "    'Ubuntu Touch': 'linux',\n",
    "    'Windows 2000': 'windows',\n",
    "    'Linux (Arch Linux)': 'linux',\n",
    "    'Mac OS': 'macos',\n",
    "    'iOS 5': 'ios',\n",
    "    'iOS 6': 'ios',\n",
    "    'JVM (Java)': 'other',\n",
    "    'BlackBerry OS': 'blackberry',\n",
    "    'Solaris': 'other',\n",
    "    'Windows Phone 7': 'windows_phone',\n",
    "    'Palm OS': 'other',\n",
    "    'FreeBSD': 'other',\n",
    "    'Linux (Slackware)': 'linux',\n",
    "    'iOS 8': 'ios',\n",
    "    'Windows ME': 'windows',\n",
    "    'Android 1.5 Cupcake': 'android',\n",
    "    'Linux (Fedora)': 'linux',\n",
    "    'Linux (Gentoo)': 'linux',\n",
    "    'MeeGo': 'other',\n",
    "    'Android 1.0': 'android',\n",
    "    'Android 1.6 Donut': 'android',\n",
    "    'NetBSD': 'other'\n",
    "}\n",
    "with open('../data/static_data/os.pkl', 'wb') as f:\n",
    "    pickle.dump(os, f)"
   ]
  },
  {
   "cell_type": "code",
   "execution_count": 27,
   "metadata": {},
   "outputs": [],
   "source": [
    "df = pd.read_csv('../data/train/train_grouped.csv')"
   ]
  },
  {
   "cell_type": "code",
   "execution_count": 22,
   "metadata": {},
   "outputs": [
    {
     "data": {
      "text/plain": [
       "Index(['id', 'browserFamily', 'deviceType', 'os', 'iab_categories',\n",
       "       'confidence', 'combine'],\n",
       "      dtype='object')"
      ]
     },
     "execution_count": 22,
     "metadata": {},
     "output_type": "execute_result"
    }
   ],
   "source": [
    "df.columns"
   ]
  },
  {
   "cell_type": "code",
   "execution_count": 30,
   "metadata": {},
   "outputs": [
    {
     "data": {
      "text/plain": [
       "mobile           6115890\n",
       "browser          2866296\n",
       "other             133907\n",
       "miscellaneous      15630\n",
       "crawler             7813\n",
       "special             3957\n",
       "Name: browserFamily, dtype: int64"
      ]
     },
     "execution_count": 30,
     "metadata": {},
     "output_type": "execute_result"
    }
   ],
   "source": [
    "df['browserFamily'].value_counts()"
   ]
  },
  {
   "cell_type": "code",
   "execution_count": 31,
   "metadata": {},
   "outputs": [
    {
     "data": {
      "text/plain": [
       "Smartphone           5882568\n",
       "Personal computer    2872804\n",
       "Tablet                310471\n",
       "Smart TV               11466\n",
       "Other                   8159\n",
       "Game console            6226\n",
       "PDA                        8\n",
       "Name: deviceType, dtype: int64"
      ]
     },
     "execution_count": 31,
     "metadata": {},
     "output_type": "execute_result"
    }
   ],
   "source": [
    "df['deviceType'].value_counts()"
   ]
  },
  {
   "cell_type": "code",
   "execution_count": 32,
   "metadata": {},
   "outputs": [
    {
     "data": {
      "text/plain": [
       "ios              3852049\n",
       "android          2407111\n",
       "windows          1483544\n",
       "macos             853356\n",
       "linux             368055\n",
       "chrome_os         124459\n",
       "other              54195\n",
       "windows_phone        688\n",
       "blackberry            36\n",
       "Name: os, dtype: int64"
      ]
     },
     "execution_count": 32,
     "metadata": {},
     "output_type": "execute_result"
    }
   ],
   "source": [
    "df['os'].value_counts()"
   ]
  },
  {
   "cell_type": "code",
   "execution_count": 33,
   "metadata": {},
   "outputs": [
    {
     "data": {
      "text/plain": [
       "high      7382517\n",
       "medium    1760976\n",
       "Name: confidence, dtype: int64"
      ]
     },
     "execution_count": 33,
     "metadata": {},
     "output_type": "execute_result"
    }
   ],
   "source": [
    "df['confidence'].value_counts()"
   ]
  },
  {
   "cell_type": "code",
   "execution_count": 34,
   "metadata": {},
   "outputs": [
    {
     "data": {
      "text/plain": [
       "technology_&_computing       1117626\n",
       "law,_gov't_&_politics         697355\n",
       "arts_&_entertainment          565032\n",
       "sports                        491827\n",
       "business                      406178\n",
       "                              ...   \n",
       "job_search                        13\n",
       "table_tennins_/_ping-pong         12\n",
       "religion_&_spirituality            4\n",
       "resume_writing_/_advice            3\n",
       "alternative_religions              2\n",
       "Name: iab_categories, Length: 167, dtype: int64"
      ]
     },
     "execution_count": 34,
     "metadata": {},
     "output_type": "execute_result"
    }
   ],
   "source": [
    "df['iab_categories'].value_counts()"
   ]
  },
  {
   "cell_type": "code",
   "execution_count": 46,
   "metadata": {},
   "outputs": [],
   "source": [
    "df = pd.read_csv('../data/train/train.csv')"
   ]
  },
  {
   "cell_type": "code",
   "execution_count": 36,
   "metadata": {},
   "outputs": [
    {
     "data": {
      "text/plain": [
       "Index(['id', 'browserFamily', 'deviceType', 'os', 'iab_categories',\n",
       "       'confidence', 'combine'],\n",
       "      dtype='object')"
      ]
     },
     "execution_count": 36,
     "metadata": {},
     "output_type": "execute_result"
    }
   ],
   "source": [
    "df.columns"
   ]
  },
  {
   "cell_type": "code",
   "execution_count": 37,
   "metadata": {},
   "outputs": [
    {
     "data": {
      "text/plain": [
       "3    6115890\n",
       "0    2866296\n",
       "4     133907\n",
       "2      15630\n",
       "1       7813\n",
       "5       3957\n",
       "Name: browserFamily, dtype: int64"
      ]
     },
     "execution_count": 37,
     "metadata": {},
     "output_type": "execute_result"
    }
   ],
   "source": [
    "df['browserFamily'].value_counts()"
   ]
  },
  {
   "cell_type": "code",
   "execution_count": 38,
   "metadata": {},
   "outputs": [
    {
     "data": {
      "text/plain": [
       "5    5882568\n",
       "3    2872804\n",
       "6     310471\n",
       "7      51791\n",
       "4      11466\n",
       "1       8159\n",
       "0       6226\n",
       "2          8\n",
       "Name: deviceType, dtype: int64"
      ]
     },
     "execution_count": 38,
     "metadata": {},
     "output_type": "execute_result"
    }
   ],
   "source": [
    "df['deviceType'].value_counts()"
   ]
  },
  {
   "cell_type": "code",
   "execution_count": 39,
   "metadata": {},
   "outputs": [
    {
     "data": {
      "text/plain": [
       "3    3852049\n",
       "0    2407111\n",
       "7    1483544\n",
       "5     853356\n",
       "4     368055\n",
       "2     124459\n",
       "6      54195\n",
       "8        688\n",
       "1         36\n",
       "Name: os, dtype: int64"
      ]
     },
     "execution_count": 39,
     "metadata": {},
     "output_type": "execute_result"
    }
   ],
   "source": [
    "df['os'].value_counts()"
   ]
  },
  {
   "cell_type": "code",
   "execution_count": 40,
   "metadata": {},
   "outputs": [
    {
     "data": {
      "text/plain": [
       "1.0    7382517\n",
       "0.5    1760976\n",
       "Name: confidence, dtype: int64"
      ]
     },
     "execution_count": 40,
     "metadata": {},
     "output_type": "execute_result"
    }
   ],
   "source": [
    "df['confidence'].value_counts()"
   ]
  },
  {
   "cell_type": "code",
   "execution_count": 41,
   "metadata": {},
   "outputs": [
    {
     "data": {
      "text/plain": [
       "150    1117626\n",
       "95      697355\n",
       "13      565032\n",
       "145     491827\n",
       "30      406178\n",
       "        ...   \n",
       "90          13\n",
       "148         12\n",
       "127          4\n",
       "130          3\n",
       "6            2\n",
       "Name: iab_categories, Length: 167, dtype: int64"
      ]
     },
     "execution_count": 41,
     "metadata": {},
     "output_type": "execute_result"
    }
   ],
   "source": [
    "df['iab_categories'].value_counts()"
   ]
  },
  {
   "cell_type": "code",
   "execution_count": 43,
   "metadata": {},
   "outputs": [
    {
     "data": {
      "text/plain": [
       "2772249     soap day rs watch tv watch life walter boys full\n",
       "629781                                          newsbreakapp\n",
       "4080812                              animetv watch one piece\n",
       "4347088    facebook usatoday ftw dallas goedert exchange ...\n",
       "3134807    facebook virginia news edu content news brief ...\n",
       "2704752    google search usatodayhss lists national recru...\n",
       "7120121                                       mply io jwyHeg\n",
       "5920922    google search usatoday ftw bettor nearly milli...\n",
       "429299                           copy gonglue us civics test\n",
       "6542860                                           hagleywest\n",
       "2883923                                 animetv watch naruto\n",
       "2058328                                         newsbreakapp\n",
       "808378     wmagazine fashion malia obama sundance film fe...\n",
       "6831051                             google search hdtoday tv\n",
       "5095569                        kenoshabreck events list page\n",
       "8499934          baldwinhardware products portfolios reserve\n",
       "8079475                               reelz show patrol live\n",
       "1281694    google search hometesterclub us reviews fabulo...\n",
       "4210757                                     onelogin broward\n",
       "3371946                                      americanthinker\n",
       "Name: combine, dtype: object"
      ]
     },
     "execution_count": 43,
     "metadata": {},
     "output_type": "execute_result"
    }
   ],
   "source": [
    "df['combine'].sample(n = 20)"
   ]
  },
  {
   "cell_type": "code",
   "execution_count": 47,
   "metadata": {},
   "outputs": [
    {
     "data": {
      "text/plain": [
       "id                0\n",
       "browserFamily     0\n",
       "deviceType        0\n",
       "os                0\n",
       "iab_categories    0\n",
       "confidence        0\n",
       "combine           0\n",
       "dtype: int64"
      ]
     },
     "execution_count": 47,
     "metadata": {},
     "output_type": "execute_result"
    }
   ],
   "source": [
    "df.isnull().sum()"
   ]
  },
  {
   "cell_type": "code",
   "execution_count": null,
   "metadata": {},
   "outputs": [],
   "source": []
  }
 ],
 "metadata": {
  "kernelspec": {
   "display_name": "Python 3",
   "language": "python",
   "name": "python3"
  },
  "language_info": {
   "codemirror_mode": {
    "name": "ipython",
    "version": 3
   },
   "file_extension": ".py",
   "mimetype": "text/x-python",
   "name": "python",
   "nbconvert_exporter": "python",
   "pygments_lexer": "ipython3",
   "version": "3.9.16"
  }
 },
 "nbformat": 4,
 "nbformat_minor": 2
}
